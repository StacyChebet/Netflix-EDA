{
  "nbformat": 4,
  "nbformat_minor": 0,
  "metadata": {
    "colab": {
      "provenance": [],
      "authorship_tag": "ABX9TyMC9UwnlTWy/qXi/gn0tH4m",
      "include_colab_link": true
    },
    "kernelspec": {
      "name": "python3",
      "display_name": "Python 3"
    },
    "language_info": {
      "name": "python"
    }
  },
  "cells": [
    {
      "cell_type": "markdown",
      "metadata": {
        "id": "view-in-github",
        "colab_type": "text"
      },
      "source": [
        "<a href=\"https://colab.research.google.com/github/StacyChebet/Netflix-EDA/blob/master/Netflix_Exploratory_Data_Analysis.ipynb\" target=\"_parent\"><img src=\"https://colab.research.google.com/assets/colab-badge.svg\" alt=\"Open In Colab\"/></a>"
      ]
    },
    {
      "cell_type": "markdown",
      "source": [
        "# **📖 What This Notebook is About**\n",
        "In this notebook, I'll be performing **Exploratory Data Analysis (EDA)** on the Netflix dataset to uncover trends, patterns and insights.<br>\n",
        "Expect to see visualizations of content distribution, country contributions, release trends, and more!<br>\n",
        "We'll dive deep into:\n",
        "- What types of content are most popular on Netflix?\n",
        "- Which countries dominate the Netflix catalog?\n",
        "- How does content vary across genres and ratings?\n",
        "- Fun visualizations showing content trends over time!\n",
        "\n",
        "By the end, you'll have a clear picture of what makes Netflix's 2021 library tick, through data, of course! 🍿📈\n",
        "\n"
      ],
      "metadata": {
        "id": "1xRcEoWaTayU"
      }
    },
    {
      "cell_type": "markdown",
      "source": [
        "# **📊 Dataset Overview**\n",
        "This dataset provides a comprehensive list of Netflix titles as of 2021, including both movies and TV shows. It containts various columns such as:\n",
        "- `type` - Movie or TV Show\n",
        "- `title` - The name of the content\n",
        "- `director` & `cast` - The creative minds behind and infront of the camera\n",
        "- `country` - Where the content was produced\n",
        "- `date_added` & `release_year` - When it was added to Netflix and when it was released\n",
        "- `rating` - Netflix's rating (is it kid-friendly or more mature?)\n",
        "- `duration` - The length of the movie or number of seasons for TV Shows\n",
        "- `listed_in` - Genre categories\n",
        "- `description` - A brief summary of the content"
      ],
      "metadata": {
        "id": "ZGdzmPWXi6rm"
      }
    },
    {
      "cell_type": "code",
      "execution_count": null,
      "metadata": {
        "id": "r9f0TzIvQC8j"
      },
      "outputs": [],
      "source": []
    }
  ]
}